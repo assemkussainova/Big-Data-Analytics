{
 "cells": [
  {
   "cell_type": "code",
   "execution_count": 1,
   "metadata": {},
   "outputs": [],
   "source": [
    "# Import libraries\n",
    "import numpy as np\n",
    "import pandas as pd\n",
    "import csv\n",
    "\n",
    "from sklearn.svm import SVC\n",
    "from sklearn.metrics import accuracy_score\n",
    "from sklearn.model_selection import cross_val_predict"
   ]
  },
  {
   "cell_type": "code",
   "execution_count": 2,
   "metadata": {},
   "outputs": [],
   "source": [
    "# Read train data from file (2-4 columns - features, 5 column - target)\n",
    "train = pd.read_csv(\"bda-hw-m-train.txt\", header = None)\n",
    "x = train.values[:, 1:4]\n",
    "y = train.values[:, -1]"
   ]
  },
  {
   "cell_type": "code",
   "execution_count": 3,
   "metadata": {},
   "outputs": [],
   "source": [
    "# Initialize gamma array for future selection of parameter with best accuracy\n",
    "gamma = np.linspace(0.01, 10, num = 100)\n",
    "\n",
    "accuracy = []\n",
    "gammas = []"
   ]
  },
  {
   "cell_type": "code",
   "execution_count": 4,
   "metadata": {},
   "outputs": [
    {
     "name": "stdout",
     "output_type": "stream",
     "text": [
      "Highest accuracy:  0.9883870967741936\n",
      "Best parameter:  5.761818181818182\n"
     ]
    }
   ],
   "source": [
    "# Run Support Vector Machine for classification and predict values using cross validation with 10 iterations,\n",
    "# using for loop run several classifications and get best gamma parameter with highest accuracy\n",
    "for i in gamma:\n",
    "    svc = SVC(kernel = 'rbf', gamma = i)\n",
    "    y_pred = cross_val_predict(svc, x, y, cv = 10)\n",
    "\n",
    "    score = accuracy_score(y, y_pred)\n",
    "    accuracy.append(score)\n",
    "    gammas.append(i)\n",
    "\n",
    "best_value = gammas[np.argmax(accuracy)]\n",
    "print('Highest accuracy: ', max(accuracy))\n",
    "print('Best parameter: ', best_value)"
   ]
  },
  {
   "cell_type": "code",
   "execution_count": 5,
   "metadata": {},
   "outputs": [],
   "source": [
    "# Read test data from the file (2-4 columns - features)\n",
    "test = pd.read_csv(\"bda-hw-m-test-dist.txt\", header = None)\n",
    "index = test.values[:, 0]\n",
    "x_test = test.values[:, 1:4] "
   ]
  },
  {
   "cell_type": "code",
   "execution_count": 6,
   "metadata": {},
   "outputs": [],
   "source": [
    "# Testing built model on test dataset with best parameter, get new target values\n",
    "svc = SVC(kernel = 'rbf', gamma = best_value)\n",
    "svc.fit(x, y)\n",
    "y_pred = svc.predict(x_test)"
   ]
  },
  {
   "cell_type": "code",
   "execution_count": 7,
   "metadata": {},
   "outputs": [],
   "source": [
    "# Save index and predicted target values into .csv file\n",
    "with open('kussainova-svm-hw1.csv', 'w', newline = '') as f:\n",
    "    writer = csv.writer(f)\n",
    "\n",
    "    for i in range(len(index)):\n",
    "        writer.writerow([index[i], y_pred[i]])\n",
    "\n",
    "    f.close()"
   ]
  }
 ],
 "metadata": {
  "kernelspec": {
   "display_name": "Python 3",
   "language": "python",
   "name": "python3"
  },
  "language_info": {
   "codemirror_mode": {
    "name": "ipython",
    "version": 3
   },
   "file_extension": ".py",
   "mimetype": "text/x-python",
   "name": "python",
   "nbconvert_exporter": "python",
   "pygments_lexer": "ipython3",
   "version": "3.7.3"
  }
 },
 "nbformat": 4,
 "nbformat_minor": 2
}
