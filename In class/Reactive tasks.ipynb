{
 "cells": [
  {
   "cell_type": "markdown",
   "metadata": {},
   "source": [
    "# In-class tasks"
   ]
  },
  {
   "cell_type": "markdown",
   "metadata": {},
   "source": [
    "Install RxPY and run all of the examples in this slide set (download the file lambtest.txt from the moodle)"
   ]
  },
  {
   "cell_type": "code",
   "execution_count": 1,
   "metadata": {},
   "outputs": [
    {
     "name": "stdout",
     "output_type": "stream",
     "text": [
      "Received Alpha\n",
      "Received Beta\n",
      "Received Gamma\n",
      "Received Delta\n",
      "Received Epsilon\n",
      "Done!\n"
     ]
    },
    {
     "data": {
      "text/plain": [
       "<rx.disposable.disposable.Disposable at 0x1d64c4b2400>"
      ]
     },
     "execution_count": 1,
     "metadata": {},
     "output_type": "execute_result"
    }
   ],
   "source": [
    "import rx\n",
    "from rx import operators as ops\n",
    "from rx import create\n",
    "from rx import from_\n",
    "\n",
    "def push_five_strings(observer, scheduler):\n",
    "    observer.on_next(\"Alpha\")\n",
    "    observer.on_next(\"Beta\")\n",
    "    observer.on_next(\"Gamma\")\n",
    "    observer.on_next(\"Delta\")\n",
    "    observer.on_next(\"Epsilon\")\n",
    "    observer.on_completed()\n",
    "\n",
    "class PrintObserver:\n",
    "    def on_next(self, value):\n",
    "        print(\"Received {0}\".format(value))\n",
    "        \n",
    "    def on_completed(self):\n",
    "        print(\"Done!\")\n",
    "    \n",
    "    def on_error(self, error):\n",
    "        print(\"Error Occurred {0}\".format(error))\n",
    "        \n",
    "source = create(push_five_strings)\n",
    "source.subscribe(PrintObserver())"
   ]
  },
  {
   "cell_type": "code",
   "execution_count": 2,
   "metadata": {},
   "outputs": [
    {
     "name": "stdout",
     "output_type": "stream",
     "text": [
      "Received A\n",
      "Received B\n",
      "Received C\n",
      "Received D\n",
      "Received E\n",
      "Done!\n"
     ]
    },
    {
     "data": {
      "text/plain": [
       "<rx.disposable.disposable.Disposable at 0x290c61ea5f8>"
      ]
     },
     "execution_count": 2,
     "metadata": {},
     "output_type": "execute_result"
    }
   ],
   "source": [
    "source = from_([\"A\", \"B\", \"C\", \"D\", \"E\"])\n",
    "source.subscribe(on_next=lambda value: print(\"Received {0}\".format(value)),\n",
    "                on_completed=lambda: print(\"Done!\"),\n",
    "                on_error=lambda error: print(\"Error Occurred {0}\".format(error))\n",
    "                )"
   ]
  },
  {
   "cell_type": "code",
   "execution_count": 3,
   "metadata": {},
   "outputs": [
    {
     "name": "stdout",
     "output_type": "stream",
     "text": [
      "Received 5\n",
      "Received 5\n",
      "Received 5\n"
     ]
    },
    {
     "data": {
      "text/plain": [
       "<rx.disposable.disposable.Disposable at 0x290c62bf8d0>"
      ]
     },
     "execution_count": 3,
     "metadata": {},
     "output_type": "execute_result"
    }
   ],
   "source": [
    "from_([\"Alpha\", \"Beta\", \"Gamma\", \"Delta\", \"Ro\"]).pipe(\n",
    "    ops.map(lambda s: len(s)),\n",
    "    ops.filter(lambda i: i >= 5)\n",
    ").subscribe(lambda value: print(\"Received {0}\".format(value)))"
   ]
  },
  {
   "cell_type": "code",
   "execution_count": 4,
   "metadata": {
    "scrolled": true
   },
   "outputs": [
    {
     "name": "stdout",
     "output_type": "stream",
     "text": [
      "one\n",
      "two\n",
      "three\n",
      "four\n"
     ]
    },
    {
     "data": {
      "text/plain": [
       "<rx.disposable.disposable.Disposable at 0x290c62f4630>"
      ]
     },
     "execution_count": 4,
     "metadata": {},
     "output_type": "execute_result"
    }
   ],
   "source": [
    "from_([\"one two\", \"three four\", \"five six\"]).pipe(\n",
    "    ops.take(2),\n",
    "    ops.flat_map(lambda s: s.split())\n",
    ").subscribe(lambda value: print(\"{0}\".format(value)))"
   ]
  },
  {
   "cell_type": "code",
   "execution_count": 5,
   "metadata": {},
   "outputs": [
    {
     "name": "stdout",
     "output_type": "stream",
     "text": [
      "The Sages say truly\n",
      "\n",
      "That two animals are in this forest:\n",
      "\n",
      "The other an unicorn.\n",
      "\n",
      "They are concealed in the forest,\n",
      "\n",
      "The Masters shew you here clearly\n",
      "\n",
      "That in all places\n",
      "\n",
      "These two animals wander about in forests\n",
      "\n",
      "That will be rightly and truly said.\n",
      "\n",
      "The unicorn will be the Spirit at all times.\n",
      "\n",
      "The deer desires no other name\n",
      "\n",
      "To couple them together,\n",
      "\n",
      "That he has attained the golden flesh,\n",
      "\n"
     ]
    },
    {
     "data": {
      "text/plain": [
       "<rx.disposable.disposable.Disposable at 0x290c61ea518>"
      ]
     },
     "execution_count": 5,
     "metadata": {},
     "output_type": "execute_result"
    }
   ],
   "source": [
    "file = open('lambtest.txt')\n",
    "o = from_(file).pipe(\n",
    "    ops.filter(lambda i: i[0] == 'T')\n",
    ")\n",
    "o.subscribe(lambda s: print(s))"
   ]
  },
  {
   "cell_type": "code",
   "execution_count": 6,
   "metadata": {},
   "outputs": [
    {
     "data": {
      "text/plain": [
       "<rx.disposable.disposable.Disposable at 0x290c61ea240>"
      ]
     },
     "execution_count": 6,
     "metadata": {},
     "output_type": "execute_result"
    },
    {
     "name": "stdout",
     "output_type": "stream",
     "text": [
      "0\n",
      "1\n",
      "2\n",
      "3\n",
      "4\n",
      "5\n",
      "6\n",
      "7\n",
      "8\n",
      "9\n"
     ]
    }
   ],
   "source": [
    "o3 = rx.interval(1).pipe(\n",
    "    ops.map(lambda i: i),\n",
    "    ops.take_while(lambda i: i < 10)\n",
    ")\n",
    "o3.subscribe(lambda s: print(s))"
   ]
  },
  {
   "cell_type": "code",
   "execution_count": 7,
   "metadata": {},
   "outputs": [
    {
     "name": "stdout",
     "output_type": "stream",
     "text": [
      "15\n"
     ]
    },
    {
     "data": {
      "text/plain": [
       "<rx.disposable.disposable.Disposable at 0x290c62fefd0>"
      ]
     },
     "execution_count": 7,
     "metadata": {},
     "output_type": "execute_result"
    }
   ],
   "source": [
    "from_([1,2,3,4,5,21,22,23,200,300]).pipe(\n",
    "    ops.filter(lambda i: i < 20),\n",
    "    ops.reduce(lambda t, i: t + i)\n",
    ").subscribe(lambda s: print(s))"
   ]
  },
  {
   "cell_type": "code",
   "execution_count": 8,
   "metadata": {},
   "outputs": [
    {
     "name": "stdout",
     "output_type": "stream",
     "text": [
      "['A', 'B', 'C', 'D']\n"
     ]
    },
    {
     "data": {
      "text/plain": [
       "<rx.disposable.disposable.Disposable at 0x290c62f4c50>"
      ]
     },
     "execution_count": 8,
     "metadata": {},
     "output_type": "execute_result"
    }
   ],
   "source": [
    "from_([\"A\", \"B\", \"C\", \"D\"]).pipe(\n",
    "    ops.to_list()\n",
    ").subscribe(lambda i: print(i))"
   ]
  },
  {
   "cell_type": "code",
   "execution_count": 9,
   "metadata": {},
   "outputs": [
    {
     "name": "stdout",
     "output_type": "stream",
     "text": [
      "a\n",
      "b\n",
      "c\n",
      "d\n",
      "e\n",
      "1\n",
      "2\n",
      "3\n",
      "4\n",
      "5\n"
     ]
    },
    {
     "data": {
      "text/plain": [
       "<rx.disposable.disposable.Disposable at 0x290c62f4a90>"
      ]
     },
     "execution_count": 9,
     "metadata": {},
     "output_type": "execute_result"
    }
   ],
   "source": [
    "L = from_([\"a\", \"b\", \"c\", \"d\", \"e\"])\n",
    "N = from_([1,2,3,4,5])\n",
    "\n",
    "L.pipe(ops.merge(N)).subscribe(lambda s: print(s))"
   ]
  },
  {
   "cell_type": "code",
   "execution_count": 10,
   "metadata": {},
   "outputs": [
    {
     "data": {
      "text/plain": [
       "<rx.disposable.disposable.Disposable at 0x290c6314ac8>"
      ]
     },
     "execution_count": 10,
     "metadata": {},
     "output_type": "execute_result"
    },
    {
     "name": "stdout",
     "output_type": "stream",
     "text": [
      "O1 0\n",
      "O2 0\n",
      "O1 1\n",
      "O1 2\n",
      "O3 0\n",
      "O2 1\n",
      "O1 3\n",
      "O1 4\n",
      "O2 2\n",
      "O1 5\n",
      "O3 1"
     ]
    }
   ],
   "source": [
    "o1 = rx.interval(0.3).pipe(ops.map(lambda i: \"O1 {0}\".format(i)))\n",
    "o2 = rx.interval(0.5).pipe(ops.map(lambda i: \"O2 {0}\".format(i)))\n",
    "o3 = rx.interval(1).pipe(ops.map(lambda i: \"O3 {0}\".format(i)))\n",
    "\n",
    "o1.pipe(ops.merge(o2, o3)).subscribe(lambda s: print(s))"
   ]
  },
  {
   "cell_type": "code",
   "execution_count": 3,
   "metadata": {},
   "outputs": [
    {
     "data": {
      "text/plain": [
       "<rx.disposable.disposable.Disposable at 0x1836b0be5c0>"
      ]
     },
     "execution_count": 3,
     "metadata": {},
     "output_type": "execute_result"
    },
    {
     "name": "stdout",
     "output_type": "stream",
     "text": [
      "O3 0\n",
      "O3 1\n",
      "O1 0\n",
      "O3 2\n",
      "O3 3\n",
      "O2 0\n",
      "O3 4\n",
      "O1 1\n",
      "O3 5\n"
     ]
    }
   ],
   "source": [
    "o1 = rx.interval(3).pipe(ops.map(lambda i: \"O1 {0}\".format(i)))\n",
    "o2 = rx.interval(5).pipe(ops.map(lambda i: \"O2 {0}\".format(i)))\n",
    "o3 = rx.interval(1).pipe(ops.map(lambda i: \"O3 {0}\".format(i)))\n",
    "olist = [o1, o2, o3]\n",
    "\n",
    "from_(olist).pipe(ops.merge_all()).subscribe(lambda s: print(s))"
   ]
  },
  {
   "cell_type": "code",
   "execution_count": 2,
   "metadata": {},
   "outputs": [
    {
     "name": "stdout",
     "output_type": "stream",
     "text": [
      "one\n",
      "two\n",
      "three\n",
      "four\n",
      "five\n",
      "six\n"
     ]
    },
    {
     "data": {
      "text/plain": [
       "<rx.disposable.disposable.Disposable at 0x27449840e10>"
      ]
     },
     "execution_count": 2,
     "metadata": {},
     "output_type": "execute_result"
    }
   ],
   "source": [
    "from_([\"one two\", \"three four\", \"five six\"]). pipe(\n",
    "    ops.map(lambda s: from_(s.split())),\n",
    "    ops.merge_all()\n",
    ").subscribe(lambda s: print(s))"
   ]
  },
  {
   "cell_type": "code",
   "execution_count": 3,
   "metadata": {},
   "outputs": [
    {
     "name": "stdout",
     "output_type": "stream",
     "text": [
      "a\n",
      "b\n",
      "c\n",
      "d\n",
      "e\n",
      "1\n",
      "2\n",
      "3\n",
      "4\n",
      "5\n"
     ]
    },
    {
     "data": {
      "text/plain": [
       "<rx.disposable.disposable.Disposable at 0x274498717f0>"
      ]
     },
     "execution_count": 3,
     "metadata": {},
     "output_type": "execute_result"
    }
   ],
   "source": [
    "L = from_([\"a\", \"b\", \"c\", \"d\", \"e\"])\n",
    "N = from_([1,2,3,4,5])\n",
    "L.pipe(ops.concat(N)).subscribe(lambda s: print(s))"
   ]
  },
  {
   "cell_type": "code",
   "execution_count": 4,
   "metadata": {},
   "outputs": [
    {
     "data": {
      "text/plain": [
       "<rx.disposable.disposable.Disposable at 0x27449878b00>"
      ]
     },
     "execution_count": 4,
     "metadata": {},
     "output_type": "execute_result"
    },
    {
     "name": "stdout",
     "output_type": "stream",
     "text": [
      "0\n",
      "1\n",
      "2\n",
      "3\n",
      "4\n",
      "5\n",
      "6\n",
      "7\n",
      "8\n",
      "9\n",
      "A\n",
      "B\n",
      "C\n"
     ]
    }
   ],
   "source": [
    "o3 = rx.interval(1).pipe(ops.map(lambda i: i),\n",
    "                        ops.take_while(lambda i: i < 10))\n",
    "o5 = from_([\"A\", \"B\", \"C\"])\n",
    "o3.pipe(ops.concat(o5)).subscribe(lambda s: print(s))"
   ]
  },
  {
   "cell_type": "code",
   "execution_count": 5,
   "metadata": {},
   "outputs": [
    {
     "name": "stdout",
     "output_type": "stream",
     "text": [
      "('a', 1)\n",
      "('b', 2)\n",
      "('c', 3)\n",
      "('d', 4)\n",
      "('e', 5)\n"
     ]
    },
    {
     "data": {
      "text/plain": [
       "<rx.disposable.disposable.Disposable at 0x27449748f28>"
      ]
     },
     "execution_count": 5,
     "metadata": {},
     "output_type": "execute_result"
    }
   ],
   "source": [
    "L = from_([\"a\", \"b\", \"c\", \"d\", \"e\", \"f\", \"g\"])\n",
    "N = from_([1,2,3,4,5])\n",
    "L.pipe(ops.zip(N)).subscribe(lambda s: print(s))"
   ]
  },
  {
   "cell_type": "code",
   "execution_count": 2,
   "metadata": {},
   "outputs": [
    {
     "name": "stdout",
     "output_type": "stream",
     "text": [
      "['Alpha', 'Gamma', 'Delta']\n",
      "['Beta']\n",
      "['Ro']\n"
     ]
    },
    {
     "data": {
      "text/plain": [
       "<rx.disposable.disposable.Disposable at 0x1d64c3b84a8>"
      ]
     },
     "execution_count": 2,
     "metadata": {},
     "output_type": "execute_result"
    }
   ],
   "source": [
    "from_([\"Alpha\", \"Beta\", \"Gamma\", \"Delta\", \"Ro\"]).pipe(\n",
    "    ops.group_by(lambda s: len(s)),\n",
    "    ops.flat_map(lambda g: g.pipe(ops.to_list())),\n",
    ").subscribe(lambda s: print(s))"
   ]
  },
  {
   "cell_type": "markdown",
   "metadata": {},
   "source": [
    "# Simple word count"
   ]
  },
  {
   "cell_type": "code",
   "execution_count": 7,
   "metadata": {},
   "outputs": [
    {
     "name": "stdout",
     "output_type": "stream",
     "text": [
      "Number of words: 174\n"
     ]
    },
    {
     "data": {
      "text/plain": [
       "<rx.disposable.disposable.Disposable at 0x274498899e8>"
      ]
     },
     "execution_count": 7,
     "metadata": {},
     "output_type": "execute_result"
    }
   ],
   "source": [
    "file = open('lambtest.txt')\n",
    "\n",
    "source = from_(file).pipe(ops.flat_map(lambda s: s.split()), \n",
    "                          ops.count()\n",
    ")\n",
    "\n",
    "source.subscribe(lambda value: print(\"Number of words: {0}\".format(value)))"
   ]
  },
  {
   "cell_type": "code",
   "execution_count": 3,
   "metadata": {},
   "outputs": [
    {
     "name": "stdout",
     "output_type": "stream",
     "text": [
      "{'t': 14, 's': 10, 'a': 13, 'i': 4, 'f': 5, 'o': 6, 'g': 3, 'b': 6, 'd': 2, 'u': 1, 'c': 6, 'h': 5, 'm': 4, 'w': 5, 'y': 1, 'p': 2, 'k': 2, 'r': 2, 'n': 3, 'l': 1, 'j': 2, 'e': 1}\n"
     ]
    },
    {
     "data": {
      "text/plain": [
       "<rx.disposable.disposable.Disposable at 0x1d64c4eefd0>"
      ]
     },
     "execution_count": 3,
     "metadata": {},
     "output_type": "execute_result"
    }
   ],
   "source": [
    "import re\n",
    "o = from_(open('lambtest.txt')).pipe(ops.map(lambda l: l.lower()),\n",
    "                                     ops.map(lambda w: re.sub(r'[^\\w\\s]','', w)),\n",
    "                                     ops.flat_map(lambda s: s.split()),\n",
    "                                     ops.distinct(),\n",
    "                                     ops.group_by(lambda i: i[0]),\n",
    "                                     ops.flat_map(lambda g: g.pipe(ops.to_list())),\n",
    "                                     ops.to_dict(lambda x: x[0][0], lambda x: len(x))\n",
    ")\n",
    "o.subscribe(lambda val: print(val))"
   ]
  }
 ],
 "metadata": {
  "kernelspec": {
   "display_name": "Python 3",
   "language": "python",
   "name": "python3"
  },
  "language_info": {
   "codemirror_mode": {
    "name": "ipython",
    "version": 3
   },
   "file_extension": ".py",
   "mimetype": "text/x-python",
   "name": "python",
   "nbconvert_exporter": "python",
   "pygments_lexer": "ipython3",
   "version": "3.7.3"
  }
 },
 "nbformat": 4,
 "nbformat_minor": 2
}
