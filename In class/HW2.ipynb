{
 "cells": [
  {
   "cell_type": "code",
   "execution_count": 1,
   "metadata": {},
   "outputs": [],
   "source": [
    "import pandas as pd\n",
    "import numpy as np"
   ]
  },
  {
   "cell_type": "code",
   "execution_count": 2,
   "metadata": {},
   "outputs": [],
   "source": [
    "def model(a, x_, t_):\n",
    "    E = t_ - a.dot(x_)\n",
    "    return E.dot(x_.T)"
   ]
  },
  {
   "cell_type": "code",
   "execution_count": 3,
   "metadata": {},
   "outputs": [
    {
     "name": "stdout",
     "output_type": "stream",
     "text": [
      "A matrix: \n",
      " [[-4.59137421e-03  1.63668500e-02  1.00730489e+00 -4.23976249e-02\n",
      "  -1.83503458e-04  9.94785867e-01]\n",
      " [-9.98167084e-03  8.03746556e-03  1.30112404e-02  9.52079240e-01\n",
      "   9.68944459e-01  1.00075845e+00]\n",
      " [-2.58578257e-03 -2.30332167e-02  7.52652881e-04  8.29179829e-03\n",
      "  -1.28311233e-02  1.00878606e+00]\n",
      " [ 9.45780905e-01  9.70344640e-01  1.00540404e+00  8.63036847e-04\n",
      "   9.76590455e-01  9.91026803e-01]\n",
      " [-3.04563155e-02  1.04460190e+00  7.76626086e-03 -2.86859357e-02\n",
      "   1.93099127e-02  2.43861309e-03]\n",
      " [ 1.74764926e-02  9.48287873e-01  1.20679998e-02  9.97604151e-03\n",
      "   1.02195665e-02  5.53871343e-03]]\n"
     ]
    }
   ],
   "source": [
    "tt = pd.read_csv(\"bp-data.txt\", header = None)\n",
    "x = tt.values[:, :6][:, np.newaxis].T\n",
    "t = tt.values[:, 6:][:, np.newaxis].T\n",
    "alpha = 0.05 #chosen randomly between 0 and 1\n",
    "\n",
    "A = np.random.rand(6, 6)\n",
    "\n",
    "for j in range(1000):\n",
    "    for i in range(200):\n",
    "        grad = alpha * model(A, x[:, :, i], t[:, :, i])\n",
    "        A = A + grad\n",
    "\n",
    "print(\"A matrix: \\n\", A)"
   ]
  }
 ],
 "metadata": {
  "kernelspec": {
   "display_name": "Python 3",
   "language": "python",
   "name": "python3"
  },
  "language_info": {
   "codemirror_mode": {
    "name": "ipython",
    "version": 3
   },
   "file_extension": ".py",
   "mimetype": "text/x-python",
   "name": "python",
   "nbconvert_exporter": "python",
   "pygments_lexer": "ipython3",
   "version": "3.7.3"
  }
 },
 "nbformat": 4,
 "nbformat_minor": 2
}
