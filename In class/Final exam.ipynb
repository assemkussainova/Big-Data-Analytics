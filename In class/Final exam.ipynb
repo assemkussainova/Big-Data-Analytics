{
 "cells": [
  {
   "cell_type": "markdown",
   "metadata": {},
   "source": [
    "# Task 5"
   ]
  },
  {
   "cell_type": "code",
   "execution_count": 1,
   "metadata": {},
   "outputs": [],
   "source": [
    "from sklearn.feature_extraction.text import CountVectorizer\n",
    "from scipy.linalg import svd\n",
    "import pandas as pd\n",
    "\n",
    "file = open('lambtest.txt')\n",
    "\n",
    "vectorizer = CountVectorizer()\n",
    "x = vectorizer.fit_transform(file)\n",
    "data = pd.DataFrame(x.toarray(), columns = vectorizer.get_feature_names())\n",
    "\n",
    "U, s, V = svd(data)"
   ]
  },
  {
   "cell_type": "markdown",
   "metadata": {},
   "source": [
    "# Task 9"
   ]
  },
  {
   "cell_type": "markdown",
   "metadata": {},
   "source": [
    "For sorting purposes there're might be used function to_sorted_list() from Reactive Python operators, however, it doesn't work on my computer. Therefore this code is not quite 'pure' for technical reasons."
   ]
  },
  {
   "cell_type": "code",
   "execution_count": 2,
   "metadata": {},
   "outputs": [
    {
     "name": "stdout",
     "output_type": "stream",
     "text": [
      "sages\n",
      "animals\n",
      "beautiful\n",
      "strong\n",
      "unicorn\n",
      "concealed\n",
      "called\n",
      "capture\n",
      "masters\n",
      "places\n",
      "animals\n",
      "forest\n",
      "parable\n",
      "forest\n",
      "rightly\n",
      "unicorn\n",
      "desires\n",
      "which\n",
      "master\n",
      "together\n",
      "forest\n",
      "justly\n",
      "rightly\n",
      "attained\n",
      "everywhere\n",
      "augustus\n"
     ]
    },
    {
     "data": {
      "text/plain": [
       "<rx.disposable.disposable.Disposable at 0x1dd16814a58>"
      ]
     },
     "execution_count": 2,
     "metadata": {},
     "output_type": "execute_result"
    }
   ],
   "source": [
    "import rx\n",
    "import re\n",
    "from rx import operators as ops\n",
    "from rx import create\n",
    "from rx import from_\n",
    "\n",
    "o = from_(open('lambtest.txt')).pipe(ops.map(lambda l: l.lower()),\n",
    "                                     ops.map(lambda w: re.sub(r'[^\\w\\s]','', w)),\n",
    "                                     ops.map(lambda i: i.split()),\n",
    "                                     ops.map(lambda x: sorted(x, key = len, reverse = True)),\n",
    "                                     ops.map(lambda a: a[0])\n",
    ")\n",
    "o.subscribe(lambda val: print(val))"
   ]
  },
  {
   "cell_type": "markdown",
   "metadata": {},
   "source": [
    "# Task 10"
   ]
  },
  {
   "cell_type": "markdown",
   "metadata": {},
   "source": [
    "Please enter a sequence of numbers separated by comma to check the validity of code on another example.\n",
    "\n",
    "Used sources:\n",
    "\n",
    "https://ninmesara.github.io/RxPY/api/operators/scan.html"
   ]
  },
  {
   "cell_type": "code",
   "execution_count": 3,
   "metadata": {},
   "outputs": [
    {
     "name": "stdout",
     "output_type": "stream",
     "text": [
      "1,1,1,0,0,2,2,3\n",
      "Result:  2\n"
     ]
    },
    {
     "data": {
      "text/plain": [
       "<rx.disposable.disposable.Disposable at 0x1dd0ad5d048>"
      ]
     },
     "execution_count": 3,
     "metadata": {},
     "output_type": "execute_result"
    }
   ],
   "source": [
    "numbers = input().split(\",\")\n",
    "\n",
    "result = from_(numbers).pipe(ops.scan(lambda num, i: max(num, i)),\n",
    "                             ops.distinct(),\n",
    "                             ops.to_list()\n",
    ")\n",
    "result.subscribe(lambda s: print(\"Result: \", len(s)-1))"
   ]
  },
  {
   "cell_type": "markdown",
   "metadata": {},
   "source": [
    "# Task 11"
   ]
  },
  {
   "cell_type": "markdown",
   "metadata": {},
   "source": [
    "Used sources:\n",
    "\n",
    "https://docs.scipy.org/doc/scipy/reference/generated/scipy.cluster.hierarchy.linkage.html"
   ]
  },
  {
   "cell_type": "code",
   "execution_count": 4,
   "metadata": {},
   "outputs": [],
   "source": [
    "import numpy as np\n",
    "\n",
    "points = np.array([[0, 0], [1, 0], [2, 0], [0, 1], [2, 1], [0, 2], [1, 2], [2, 2]])"
   ]
  },
  {
   "cell_type": "code",
   "execution_count": 5,
   "metadata": {},
   "outputs": [
    {
     "data": {
      "text/plain": [
       "<Figure size 640x480 with 1 Axes>"
      ]
     },
     "metadata": {},
     "output_type": "display_data"
    }
   ],
   "source": [
    "from scipy.cluster.hierarchy import dendrogram, linkage\n",
    "from matplotlib import pyplot as plt\n",
    "\n",
    "linked = linkage(points, 'complete', 'cityblock')\n",
    "dendrogram(linked)\n",
    "plt.title(\"Hierarchical clustering (linkage: COMPLETE, distance: TAXICAB)\")\n",
    "plt.show()"
   ]
  },
  {
   "cell_type": "code",
   "execution_count": 6,
   "metadata": {},
   "outputs": [
    {
     "data": {
      "image/png": "[encoded data removed]",
      "text/plain": [
       "<Figure size 432x288 with 1 Axes>"
      ]
     },
     "metadata": {
      "needs_background": "light"
     },
     "output_type": "display_data"
    }
   ],
   "source": [
    "linked = linkage(points, 'single', 'cityblock')\n",
    "dendrogram(linked)\n",
    "plt.title(\"Hierarchical clustering (linkage: SINGLE, distance: TAXICAB)\")\n",
    "plt.show()"
   ]
  },
  {
   "cell_type": "markdown",
   "metadata": {},
   "source": [
    "# Task 12"
   ]
  },
  {
   "cell_type": "markdown",
   "metadata": {},
   "source": [
    "Used sources: \n",
    "\n",
    "https://networkx.github.io/documentation/networkx-.10/tutorial/tutorial.html\n",
    "\n",
    "https://networkx.github.io/documentation/networkx-.9/reference/generated/networkx.linalg.graphmatrix.adjacency_matrix.html\n",
    "\n",
    "https://networkx.github.io/documentation/networkx-.9/reference/generated/networkx.algorithms.centrality.edge_betweenness_centrality.html"
   ]
  },
  {
   "cell_type": "code",
   "execution_count": 7,
   "metadata": {},
   "outputs": [
    {
     "name": "stdout",
     "output_type": "stream",
     "text": [
      "Adjacency matrix:\n",
      "[[0 0 0 1 0 0 0 0 0 0]\n",
      " [0 0 0 1 0 0 0 0 0 0]\n",
      " [0 0 0 1 0 0 0 0 0 0]\n",
      " [1 1 1 0 1 1 0 0 0 0]\n",
      " [0 0 0 1 0 0 0 0 0 0]\n",
      " [0 0 0 1 0 0 1 1 1 0]\n",
      " [0 0 0 0 0 1 0 0 0 0]\n",
      " [0 0 0 0 0 1 0 0 0 0]\n",
      " [0 0 0 0 0 1 0 0 0 0]\n",
      " [0 0 0 0 0 0 0 0 0 0]] \n",
      "\n",
      "Edge betweennes centrailty of edge (8, 9): \n",
      "0.4444444444444445\n"
     ]
    }
   ],
   "source": [
    "import networkx as nx\n",
    "\n",
    "network = nx.Graph()\n",
    "\n",
    "network.add_nodes_from([6, 4, 7, 8, 5, 9, 1, 3, 2, 0])\n",
    "network.add_edges_from([(7, 8), (6, 8), (4, 8), (5, 8), (8, 9), (1, 9), (3, 9), (2, 9)])\n",
    "\n",
    "matrix = nx.adjacency_matrix(network)\n",
    "print(\"Adjacency matrix:\") \n",
    "print(matrix.todense(), \"\\n\")\n",
    "\n",
    "edge_centrality = nx.edge_betweenness_centrality(network)\n",
    "print(\"Edge betweennes centrailty of edge (8, 9): \")\n",
    "print(edge_centrality[(8, 9)])"
   ]
  },
  {
   "cell_type": "code",
   "execution_count": null,
   "metadata": {},
   "outputs": [],
   "source": []
  }
 ],
 "metadata": {
  "kernelspec": {
   "display_name": "Python 3",
   "language": "python",
   "name": "python3"
  },
  "language_info": {
   "codemirror_mode": {
    "name": "ipython",
    "version": 3
   },
   "file_extension": ".py",
   "mimetype": "text/x-python",
   "name": "python",
   "nbconvert_exporter": "python",
   "pygments_lexer": "ipython3",
   "version": "3.7.3"
  }
 },
 "nbformat": 4,
 "nbformat_minor": 2
}
