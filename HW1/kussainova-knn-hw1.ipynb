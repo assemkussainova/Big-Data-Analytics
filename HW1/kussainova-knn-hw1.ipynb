{
 "cells": [
  {
   "cell_type": "code",
   "execution_count": 1,
   "metadata": {},
   "outputs": [],
   "source": [
    "# Import libraries\n",
    "import numpy as np\n",
    "import pandas as pd\n",
    "import csv\n",
    "\n",
    "from sklearn.neighbors import KNeighborsClassifier\n",
    "from sklearn.metrics import accuracy_score\n",
    "from sklearn.model_selection import cross_val_predict"
   ]
  },
  {
   "cell_type": "code",
   "execution_count": 2,
   "metadata": {},
   "outputs": [],
   "source": [
    "# Read train data from file (2-4 columns - features, 5 column - target)\n",
    "train = pd.read_csv(\"bda-hw-m-train.txt\", header = None)\n",
    "x = train.values[:, 1:4]\n",
    "y = train.values[:, -1]"
   ]
  },
  {
   "cell_type": "code",
   "execution_count": 3,
   "metadata": {},
   "outputs": [],
   "source": [
    "# Initialize k neighbors array for future selection of parameter with best accuracy\n",
    "k = np.linspace(1, 40, num = 40, dtype = int)\n",
    "\n",
    "accuracy = []\n",
    "neighbors = []"
   ]
  },
  {
   "cell_type": "code",
   "execution_count": 4,
   "metadata": {},
   "outputs": [
    {
     "name": "stdout",
     "output_type": "stream",
     "text": [
      "Highest accuracy:  0.9870967741935484\n",
      "Best parameter:  8\n"
     ]
    }
   ],
   "source": [
    "# Run K Neighbor Classifier for classification and predict values using cross validation with 10 iterations,\n",
    "# using for loop run several classifications and get best k parameter with highest accuracy\n",
    "for i in k:\n",
    "    knn = KNeighborsClassifier(n_neighbors = i)    \n",
    "    y_pred = cross_val_predict(knn, x, y, cv = 10)\n",
    "\n",
    "    score = accuracy_score(y, y_pred)\n",
    "    accuracy.append(score)\n",
    "    neighbors.append(i)\n",
    "\n",
    "best_value = neighbors[np.argmax(accuracy)]\n",
    "print('Highest accuracy: ', max(accuracy))\n",
    "print('Best parameter: ', best_value)"
   ]
  },
  {
   "cell_type": "code",
   "execution_count": 5,
   "metadata": {},
   "outputs": [],
   "source": [
    "# Read test data from the file (2-4 columns - features)\n",
    "test = pd.read_csv(\"bda-hw-m-test-dist.txt\", header = None)\n",
    "index = test.values[:, 0]\n",
    "x_test = test.values[:, 1:4] "
   ]
  },
  {
   "cell_type": "code",
   "execution_count": 6,
   "metadata": {},
   "outputs": [],
   "source": [
    "# Testing built model on test dataset with best parameter, get new target values\n",
    "knn = KNeighborsClassifier(n_neighbors = best_value)\n",
    "knn.fit(x, y)\n",
    "y_pred = knn.predict(x_test)"
   ]
  },
  {
   "cell_type": "code",
   "execution_count": 7,
   "metadata": {},
   "outputs": [],
   "source": [
    "# Save index and predicted target values into .csv file\n",
    "with open('kussainova-knn-hw1.csv', 'w',  newline = '') as f:\n",
    "    writer = csv.writer(f)\n",
    "\n",
    "    for i in range(len(index)):\n",
    "        writer.writerow([index[i], y_pred[i]])\n",
    "\n",
    "    f.close()"
   ]
  }
 ],
 "metadata": {
  "kernelspec": {
   "display_name": "Python 3",
   "language": "python",
   "name": "python3"
  },
  "language_info": {
   "codemirror_mode": {
    "name": "ipython",
    "version": 3
   },
   "file_extension": ".py",
   "mimetype": "text/x-python",
   "name": "python",
   "nbconvert_exporter": "python",
   "pygments_lexer": "ipython3",
   "version": "3.7.3"
  }
 },
 "nbformat": 4,
 "nbformat_minor": 2
}
