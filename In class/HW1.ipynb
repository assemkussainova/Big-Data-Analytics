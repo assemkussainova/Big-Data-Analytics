{
 "cells": [
  {
   "cell_type": "code",
   "execution_count": 6,
   "metadata": {},
   "outputs": [],
   "source": [
    "import pandas as pd\n",
    "import numpy as np\n",
    "import sklearn.linear_model\n",
    "import matplotlib.pyplot as plt"
   ]
  },
  {
   "cell_type": "code",
   "execution_count": 7,
   "metadata": {},
   "outputs": [],
   "source": [
    "tt = pd.read_csv(\"aic1.txt\", header = None)\n",
    "x = tt.values[:,0]\n",
    "y = tt.values[:,1]\n",
    "x = x[:, np.newaxis]\n",
    "X = np.hstack((0*x + 1, x))\n",
    "clr = sklearn.linear_model.LinearRegression()\n",
    "clr.fit(X, y)\n",
    "y_pred = clr.predict(X)\n",
    "\n",
    "E = sum((y - y_pred)**2)"
   ]
  },
  {
   "cell_type": "code",
   "execution_count": 8,
   "metadata": {},
   "outputs": [],
   "source": [
    "def AIC(N, p, e):\n",
    "    return N*np.log(e/N)+2*(p+2)"
   ]
  },
  {
   "cell_type": "code",
   "execution_count": 9,
   "metadata": {},
   "outputs": [
    {
     "name": "stdout",
     "output_type": "stream",
     "text": [
      "AIC:  -73.85379954456766\n"
     ]
    },
    {
     "data": {
      "image/png": "[encoded data removed]",
      "text/plain": [
       "<Figure size 432x288 with 1 Axes>"
      ]
     },
     "metadata": {
      "needs_background": "light"
     },
     "output_type": "display_data"
    }
   ],
   "source": [
    "#First degree polynomial\n",
    "power = 1\n",
    "aic = AIC(len(y), power, E)\n",
    "print('AIC: ', aic)\n",
    "\n",
    "plt.scatter(x, y)\n",
    "plt.plot(x, y_pred, color='red')\n",
    "plt.show()"
   ]
  },
  {
   "cell_type": "code",
   "execution_count": 10,
   "metadata": {},
   "outputs": [
    {
     "name": "stdout",
     "output_type": "stream",
     "text": [
      "AIC:  -241.4595481425123\n",
      "Polynomial degree:  3\n"
     ]
    }
   ],
   "source": [
    "#2-11 degree polynomials\n",
    "for p in range(2, 12):\n",
    "    X = np.hstack((X, x ** p))\n",
    "    clr = sklearn.linear_model.LinearRegression()\n",
    "    clr.fit(X, y)\n",
    "    y_pred = clr.predict(X)\n",
    "\n",
    "    E = sum((y - y_pred)**2)\n",
    "    aic2 = AIC(len(y), p, E)\n",
    "    \n",
    "    if aic > aic2:\n",
    "        aic = aic2\n",
    "        degree = p\n",
    "print(\"AIC: \", aic)\n",
    "print(\"Polynomial degree: \", degree)"
   ]
  },
  {
   "cell_type": "code",
   "execution_count": null,
   "metadata": {},
   "outputs": [],
   "source": []
  },
  {
   "cell_type": "code",
   "execution_count": null,
   "metadata": {},
   "outputs": [],
   "source": []
  },
  {
   "cell_type": "code",
   "execution_count": null,
   "metadata": {},
   "outputs": [],
   "source": []
  }
 ],
 "metadata": {
  "kernelspec": {
   "display_name": "Python 3",
   "language": "python",
   "name": "python3"
  },
  "language_info": {
   "codemirror_mode": {
    "name": "ipython",
    "version": 3
   },
   "file_extension": ".py",
   "mimetype": "text/x-python",
   "name": "python",
   "nbconvert_exporter": "python",
   "pygments_lexer": "ipython3",
   "version": "3.7.3"
  }
 },
 "nbformat": 4,
 "nbformat_minor": 2
}
