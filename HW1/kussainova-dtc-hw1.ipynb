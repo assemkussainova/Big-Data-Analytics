{
 "cells": [
  {
   "cell_type": "code",
   "execution_count": 1,
   "metadata": {},
   "outputs": [],
   "source": [
    "# Import libraries\n",
    "import csv\n",
    "import numpy as np\n",
    "import pandas as pd\n",
    "\n",
    "from sklearn.metrics import accuracy_score\n",
    "from sklearn.tree import DecisionTreeClassifier\n",
    "from sklearn.model_selection import cross_val_predict, cross_val_score"
   ]
  },
  {
   "cell_type": "code",
   "execution_count": 2,
   "metadata": {},
   "outputs": [],
   "source": [
    "# Read train data from file (2-4 columns - features, 5 column - target)\n",
    "train = pd.read_csv(\"bda-hw-m-train.txt\", header = None)\n",
    "x = train.values[:, 1:4]\n",
    "y = train.values[:, -1]"
   ]
  },
  {
   "cell_type": "code",
   "execution_count": 3,
   "metadata": {},
   "outputs": [],
   "source": [
    "# Initialize depth array for future selection of parameter with best accuracy\n",
    "depth = range(1, 100)\n",
    "\n",
    "accuracy_default = []\n",
    "depths_default = []"
   ]
  },
  {
   "cell_type": "code",
   "execution_count": 4,
   "metadata": {},
   "outputs": [
    {
     "name": "stdout",
     "output_type": "stream",
     "text": [
      "Highest accuracy (default splitter):  0.9703225806451613\n",
      "Best depth (default splitter):  9\n"
     ]
    }
   ],
   "source": [
    "# Run Decision Tree Classifier for classification and predict values using cross validation with 10 iterations,\n",
    "# using for loop run several classifications and get best depth parameter and splitter with highest accuracy\n",
    "# 1. Best splitter\n",
    "for i in depth:\n",
    "    dtc = DecisionTreeClassifier(max_depth = i, random_state = 42)\n",
    "    y_pred = cross_val_predict(dtc, x, y, cv = 10)\n",
    "\n",
    "    score = accuracy_score(y, y_pred)\n",
    "    accuracy_default.append(score)\n",
    "    depths_default.append(i)\n",
    "    \n",
    "best_value = depths_default[np.argmax(accuracy_default)]\n",
    "print('Highest accuracy (default splitter): ', max(accuracy_default))\n",
    "print('Best depth (default splitter): ', best_value)"
   ]
  },
  {
   "cell_type": "code",
   "execution_count": 5,
   "metadata": {},
   "outputs": [
    {
     "name": "stdout",
     "output_type": "stream",
     "text": [
      "Highest accuracy (random splitter):  0.9561290322580646\n",
      "Best depth (random splitter):  17\n"
     ]
    }
   ],
   "source": [
    "# 2. Random splitter\n",
    "accuracy_random = []\n",
    "depths_random = []\n",
    "\n",
    "for i in depth:\n",
    "    dtc = DecisionTreeClassifier(max_depth = i, splitter = 'random',  random_state = 42)\n",
    "    y_pred = cross_val_predict(dtc, x, y, cv = 10)\n",
    "\n",
    "    score = accuracy_score(y, y_pred)\n",
    "    accuracy_random.append(score)\n",
    "    depths_random.append(i)\n",
    "\n",
    "best_value_random = depths_random[np.argmax(accuracy_random)]\n",
    "print('Highest accuracy (random splitter): ', max(accuracy_random))\n",
    "print('Best depth (random splitter): ', best_value_random)"
   ]
  },
  {
   "cell_type": "code",
   "execution_count": 6,
   "metadata": {},
   "outputs": [
    {
     "name": "stdout",
     "output_type": "stream",
     "text": [
      "Depth:  9 Splitter:  best\n"
     ]
    }
   ],
   "source": [
    "# Choose the best parameters for the final model form obtained results of accuracy\n",
    "d = [best_value, best_value_random]\n",
    "a = [max(accuracy_default), max(accuracy_random)]\n",
    "splitters = ['best', 'random']\n",
    "i = np.argmax(a)\n",
    "d_final = d[i]\n",
    "splitter_final = splitters[i]\n",
    "print ('Depth: ', d_final, 'Splitter: ', splitter_final)"
   ]
  },
  {
   "cell_type": "code",
   "execution_count": 7,
   "metadata": {},
   "outputs": [],
   "source": [
    "# Read test data from the file (2-4 columns - features)\n",
    "test = pd.read_csv(\"bda-hw-m-test-dist.txt\", header = None)\n",
    "index = test.values[:, 0]\n",
    "x_test = test.values[:, 1:]"
   ]
  },
  {
   "cell_type": "code",
   "execution_count": 8,
   "metadata": {},
   "outputs": [],
   "source": [
    "# Testing built model on test dataset with best parameter, get new target values\n",
    "dtc = DecisionTreeClassifier(max_depth = d_final, splitter = splitter_final)\n",
    "dtc.fit(x, y)\n",
    "y_pred = dtc.predict(x_test)"
   ]
  },
  {
   "cell_type": "code",
   "execution_count": 9,
   "metadata": {},
   "outputs": [],
   "source": [
    "# Save index and predicted target values into .csv file\n",
    "with open('kussainova-dtc-hw1.csv', 'w') as f:\n",
    "    writer = csv.writer(f)\n",
    "\n",
    "    for i in range(len(index)):\n",
    "        writer.writerow([index[i], y_pred[i]])\n",
    "\n",
    "    f.close()"
   ]
  }
 ],
 "metadata": {
  "kernelspec": {
   "display_name": "Python 3",
   "language": "python",
   "name": "python3"
  },
  "language_info": {
   "codemirror_mode": {
    "name": "ipython",
    "version": 3
   },
   "file_extension": ".py",
   "mimetype": "text/x-python",
   "name": "python",
   "nbconvert_exporter": "python",
   "pygments_lexer": "ipython3",
   "version": "3.7.3"
  }
 },
 "nbformat": 4,
 "nbformat_minor": 2
}
