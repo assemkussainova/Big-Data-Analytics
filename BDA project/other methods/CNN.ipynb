{
 "cells": [
  {
   "cell_type": "markdown",
   "metadata": {},
   "source": [
    "# Project Big Data Analytics\n",
    "\n",
    "\n",
    "## Team members: \n",
    "### Aitore Issadykova\n",
    "###  Assem Kussainova"
   ]
  },
  {
   "cell_type": "code",
   "execution_count": 146,
   "metadata": {},
   "outputs": [],
   "source": [
    "import matplotlib.pyplot as plt\n",
    "import numpy as np\n",
    "import pandas as pd\n",
    "from sklearn.linear_model import LinearRegression\n",
    "from sklearn.metrics import mean_squared_error, r2_score as r2\n",
    "\n"
   ]
  },
  {
   "cell_type": "markdown",
   "metadata": {},
   "source": [
    "# Loading Dataset\n"
   ]
  },
  {
   "cell_type": "code",
   "execution_count": 147,
   "metadata": {},
   "outputs": [
    {
     "name": "stdout",
     "output_type": "stream",
     "text": [
      "(9200, 1024)\n"
     ]
    }
   ],
   "source": [
    "#load_dataset\n",
    "train = pd.read_csv('bda-image-challenge-train.txt', header = None)\n",
    "print(np.shape(train))\n"
   ]
  },
  {
   "cell_type": "code",
   "execution_count": 148,
   "metadata": {},
   "outputs": [
    {
     "data": {
      "text/html": [
       "<div>\n",
       "<style scoped>\n",
       "    .dataframe tbody tr th:only-of-type {\n",
       "        vertical-align: middle;\n",
       "    }\n",
       "\n",
       "    .dataframe tbody tr th {\n",
       "        vertical-align: top;\n",
       "    }\n",
       "\n",
       "    .dataframe thead th {\n",
       "        text-align: right;\n",
       "    }\n",
       "</style>\n",
       "<table border=\"1\" class=\"dataframe\">\n",
       "  <thead>\n",
       "    <tr style=\"text-align: right;\">\n",
       "      <th></th>\n",
       "      <th>0</th>\n",
       "      <th>1</th>\n",
       "      <th>2</th>\n",
       "      <th>3</th>\n",
       "      <th>4</th>\n",
       "      <th>5</th>\n",
       "      <th>6</th>\n",
       "      <th>7</th>\n",
       "      <th>8</th>\n",
       "      <th>9</th>\n",
       "      <th>...</th>\n",
       "      <th>1014</th>\n",
       "      <th>1015</th>\n",
       "      <th>1016</th>\n",
       "      <th>1017</th>\n",
       "      <th>1018</th>\n",
       "      <th>1019</th>\n",
       "      <th>1020</th>\n",
       "      <th>1021</th>\n",
       "      <th>1022</th>\n",
       "      <th>1023</th>\n",
       "    </tr>\n",
       "  </thead>\n",
       "  <tbody>\n",
       "    <tr>\n",
       "      <td>0</td>\n",
       "      <td>0.0</td>\n",
       "      <td>0.0</td>\n",
       "      <td>0.0</td>\n",
       "      <td>0.0</td>\n",
       "      <td>0.0</td>\n",
       "      <td>0.0</td>\n",
       "      <td>0.0</td>\n",
       "      <td>0.0</td>\n",
       "      <td>0.0</td>\n",
       "      <td>0.0</td>\n",
       "      <td>...</td>\n",
       "      <td>0.0</td>\n",
       "      <td>0.0</td>\n",
       "      <td>0.0</td>\n",
       "      <td>0.0</td>\n",
       "      <td>0.0</td>\n",
       "      <td>0.0</td>\n",
       "      <td>0.0</td>\n",
       "      <td>0.0</td>\n",
       "      <td>0.0</td>\n",
       "      <td>0.0</td>\n",
       "    </tr>\n",
       "    <tr>\n",
       "      <td>1</td>\n",
       "      <td>0.0</td>\n",
       "      <td>0.0</td>\n",
       "      <td>0.0</td>\n",
       "      <td>0.0</td>\n",
       "      <td>0.0</td>\n",
       "      <td>0.0</td>\n",
       "      <td>0.0</td>\n",
       "      <td>0.0</td>\n",
       "      <td>0.0</td>\n",
       "      <td>0.0</td>\n",
       "      <td>...</td>\n",
       "      <td>0.0</td>\n",
       "      <td>0.0</td>\n",
       "      <td>0.0</td>\n",
       "      <td>0.0</td>\n",
       "      <td>0.0</td>\n",
       "      <td>0.0</td>\n",
       "      <td>0.0</td>\n",
       "      <td>0.0</td>\n",
       "      <td>0.0</td>\n",
       "      <td>0.0</td>\n",
       "    </tr>\n",
       "    <tr>\n",
       "      <td>2</td>\n",
       "      <td>0.0</td>\n",
       "      <td>0.0</td>\n",
       "      <td>0.0</td>\n",
       "      <td>0.0</td>\n",
       "      <td>0.0</td>\n",
       "      <td>0.0</td>\n",
       "      <td>0.0</td>\n",
       "      <td>0.0</td>\n",
       "      <td>0.0</td>\n",
       "      <td>0.0</td>\n",
       "      <td>...</td>\n",
       "      <td>0.0</td>\n",
       "      <td>0.0</td>\n",
       "      <td>0.0</td>\n",
       "      <td>0.0</td>\n",
       "      <td>0.0</td>\n",
       "      <td>0.0</td>\n",
       "      <td>0.0</td>\n",
       "      <td>0.0</td>\n",
       "      <td>0.0</td>\n",
       "      <td>0.0</td>\n",
       "    </tr>\n",
       "    <tr>\n",
       "      <td>3</td>\n",
       "      <td>0.0</td>\n",
       "      <td>0.0</td>\n",
       "      <td>0.0</td>\n",
       "      <td>0.0</td>\n",
       "      <td>0.0</td>\n",
       "      <td>0.0</td>\n",
       "      <td>0.0</td>\n",
       "      <td>0.0</td>\n",
       "      <td>0.0</td>\n",
       "      <td>0.0</td>\n",
       "      <td>...</td>\n",
       "      <td>0.0</td>\n",
       "      <td>0.0</td>\n",
       "      <td>0.0</td>\n",
       "      <td>0.0</td>\n",
       "      <td>0.0</td>\n",
       "      <td>0.0</td>\n",
       "      <td>0.0</td>\n",
       "      <td>0.0</td>\n",
       "      <td>0.0</td>\n",
       "      <td>0.0</td>\n",
       "    </tr>\n",
       "    <tr>\n",
       "      <td>4</td>\n",
       "      <td>0.0</td>\n",
       "      <td>0.0</td>\n",
       "      <td>0.0</td>\n",
       "      <td>0.0</td>\n",
       "      <td>0.0</td>\n",
       "      <td>0.0</td>\n",
       "      <td>0.0</td>\n",
       "      <td>0.0</td>\n",
       "      <td>0.0</td>\n",
       "      <td>0.0</td>\n",
       "      <td>...</td>\n",
       "      <td>0.0</td>\n",
       "      <td>0.0</td>\n",
       "      <td>0.0</td>\n",
       "      <td>0.0</td>\n",
       "      <td>0.0</td>\n",
       "      <td>0.0</td>\n",
       "      <td>0.0</td>\n",
       "      <td>0.0</td>\n",
       "      <td>0.0</td>\n",
       "      <td>0.0</td>\n",
       "    </tr>\n",
       "    <tr>\n",
       "      <td>...</td>\n",
       "      <td>...</td>\n",
       "      <td>...</td>\n",
       "      <td>...</td>\n",
       "      <td>...</td>\n",
       "      <td>...</td>\n",
       "      <td>...</td>\n",
       "      <td>...</td>\n",
       "      <td>...</td>\n",
       "      <td>...</td>\n",
       "      <td>...</td>\n",
       "      <td>...</td>\n",
       "      <td>...</td>\n",
       "      <td>...</td>\n",
       "      <td>...</td>\n",
       "      <td>...</td>\n",
       "      <td>...</td>\n",
       "      <td>...</td>\n",
       "      <td>...</td>\n",
       "      <td>...</td>\n",
       "      <td>...</td>\n",
       "      <td>...</td>\n",
       "    </tr>\n",
       "    <tr>\n",
       "      <td>9195</td>\n",
       "      <td>0.0</td>\n",
       "      <td>0.0</td>\n",
       "      <td>0.0</td>\n",
       "      <td>0.0</td>\n",
       "      <td>0.0</td>\n",
       "      <td>0.0</td>\n",
       "      <td>0.0</td>\n",
       "      <td>0.0</td>\n",
       "      <td>0.0</td>\n",
       "      <td>0.0</td>\n",
       "      <td>...</td>\n",
       "      <td>0.0</td>\n",
       "      <td>0.0</td>\n",
       "      <td>0.0</td>\n",
       "      <td>0.0</td>\n",
       "      <td>0.0</td>\n",
       "      <td>0.0</td>\n",
       "      <td>0.0</td>\n",
       "      <td>0.0</td>\n",
       "      <td>0.0</td>\n",
       "      <td>0.0</td>\n",
       "    </tr>\n",
       "    <tr>\n",
       "      <td>9196</td>\n",
       "      <td>0.0</td>\n",
       "      <td>0.0</td>\n",
       "      <td>0.0</td>\n",
       "      <td>0.0</td>\n",
       "      <td>0.0</td>\n",
       "      <td>0.0</td>\n",
       "      <td>0.0</td>\n",
       "      <td>0.0</td>\n",
       "      <td>0.0</td>\n",
       "      <td>0.0</td>\n",
       "      <td>...</td>\n",
       "      <td>0.0</td>\n",
       "      <td>0.0</td>\n",
       "      <td>0.0</td>\n",
       "      <td>0.0</td>\n",
       "      <td>0.0</td>\n",
       "      <td>0.0</td>\n",
       "      <td>0.0</td>\n",
       "      <td>0.0</td>\n",
       "      <td>0.0</td>\n",
       "      <td>0.0</td>\n",
       "    </tr>\n",
       "    <tr>\n",
       "      <td>9197</td>\n",
       "      <td>0.0</td>\n",
       "      <td>0.0</td>\n",
       "      <td>0.0</td>\n",
       "      <td>0.0</td>\n",
       "      <td>0.0</td>\n",
       "      <td>0.0</td>\n",
       "      <td>0.0</td>\n",
       "      <td>0.0</td>\n",
       "      <td>0.0</td>\n",
       "      <td>0.0</td>\n",
       "      <td>...</td>\n",
       "      <td>0.0</td>\n",
       "      <td>0.0</td>\n",
       "      <td>0.0</td>\n",
       "      <td>0.0</td>\n",
       "      <td>0.0</td>\n",
       "      <td>0.0</td>\n",
       "      <td>0.0</td>\n",
       "      <td>0.0</td>\n",
       "      <td>0.0</td>\n",
       "      <td>0.0</td>\n",
       "    </tr>\n",
       "    <tr>\n",
       "      <td>9198</td>\n",
       "      <td>0.0</td>\n",
       "      <td>0.0</td>\n",
       "      <td>0.0</td>\n",
       "      <td>0.0</td>\n",
       "      <td>0.0</td>\n",
       "      <td>0.0</td>\n",
       "      <td>0.0</td>\n",
       "      <td>0.0</td>\n",
       "      <td>0.0</td>\n",
       "      <td>0.0</td>\n",
       "      <td>...</td>\n",
       "      <td>0.0</td>\n",
       "      <td>0.0</td>\n",
       "      <td>0.0</td>\n",
       "      <td>0.0</td>\n",
       "      <td>0.0</td>\n",
       "      <td>0.0</td>\n",
       "      <td>0.0</td>\n",
       "      <td>0.0</td>\n",
       "      <td>0.0</td>\n",
       "      <td>0.0</td>\n",
       "    </tr>\n",
       "    <tr>\n",
       "      <td>9199</td>\n",
       "      <td>0.0</td>\n",
       "      <td>0.0</td>\n",
       "      <td>0.0</td>\n",
       "      <td>0.0</td>\n",
       "      <td>0.0</td>\n",
       "      <td>0.0</td>\n",
       "      <td>0.0</td>\n",
       "      <td>0.0</td>\n",
       "      <td>0.0</td>\n",
       "      <td>0.0</td>\n",
       "      <td>...</td>\n",
       "      <td>0.0</td>\n",
       "      <td>0.0</td>\n",
       "      <td>0.0</td>\n",
       "      <td>0.0</td>\n",
       "      <td>0.0</td>\n",
       "      <td>0.0</td>\n",
       "      <td>0.0</td>\n",
       "      <td>0.0</td>\n",
       "      <td>0.0</td>\n",
       "      <td>0.0</td>\n",
       "    </tr>\n",
       "  </tbody>\n",
       "</table>\n",
       "<p>9200 rows × 1024 columns</p>\n",
       "</div>"
      ],
      "text/plain": [
       "      0     1     2     3     4     5     6     7     8     9     ...  1014  \\\n",
       "0      0.0   0.0   0.0   0.0   0.0   0.0   0.0   0.0   0.0   0.0  ...   0.0   \n",
       "1      0.0   0.0   0.0   0.0   0.0   0.0   0.0   0.0   0.0   0.0  ...   0.0   \n",
       "2      0.0   0.0   0.0   0.0   0.0   0.0   0.0   0.0   0.0   0.0  ...   0.0   \n",
       "3      0.0   0.0   0.0   0.0   0.0   0.0   0.0   0.0   0.0   0.0  ...   0.0   \n",
       "4      0.0   0.0   0.0   0.0   0.0   0.0   0.0   0.0   0.0   0.0  ...   0.0   \n",
       "...    ...   ...   ...   ...   ...   ...   ...   ...   ...   ...  ...   ...   \n",
       "9195   0.0   0.0   0.0   0.0   0.0   0.0   0.0   0.0   0.0   0.0  ...   0.0   \n",
       "9196   0.0   0.0   0.0   0.0   0.0   0.0   0.0   0.0   0.0   0.0  ...   0.0   \n",
       "9197   0.0   0.0   0.0   0.0   0.0   0.0   0.0   0.0   0.0   0.0  ...   0.0   \n",
       "9198   0.0   0.0   0.0   0.0   0.0   0.0   0.0   0.0   0.0   0.0  ...   0.0   \n",
       "9199   0.0   0.0   0.0   0.0   0.0   0.0   0.0   0.0   0.0   0.0  ...   0.0   \n",
       "\n",
       "      1015  1016  1017  1018  1019  1020  1021  1022  1023  \n",
       "0      0.0   0.0   0.0   0.0   0.0   0.0   0.0   0.0   0.0  \n",
       "1      0.0   0.0   0.0   0.0   0.0   0.0   0.0   0.0   0.0  \n",
       "2      0.0   0.0   0.0   0.0   0.0   0.0   0.0   0.0   0.0  \n",
       "3      0.0   0.0   0.0   0.0   0.0   0.0   0.0   0.0   0.0  \n",
       "4      0.0   0.0   0.0   0.0   0.0   0.0   0.0   0.0   0.0  \n",
       "...    ...   ...   ...   ...   ...   ...   ...   ...   ...  \n",
       "9195   0.0   0.0   0.0   0.0   0.0   0.0   0.0   0.0   0.0  \n",
       "9196   0.0   0.0   0.0   0.0   0.0   0.0   0.0   0.0   0.0  \n",
       "9197   0.0   0.0   0.0   0.0   0.0   0.0   0.0   0.0   0.0  \n",
       "9198   0.0   0.0   0.0   0.0   0.0   0.0   0.0   0.0   0.0  \n",
       "9199   0.0   0.0   0.0   0.0   0.0   0.0   0.0   0.0   0.0  \n",
       "\n",
       "[9200 rows x 1024 columns]"
      ]
     },
     "execution_count": 148,
     "metadata": {},
     "output_type": "execute_result"
    }
   ],
   "source": [
    "train"
   ]
  },
  {
   "cell_type": "code",
   "execution_count": 149,
   "metadata": {},
   "outputs": [
    {
     "name": "stdout",
     "output_type": "stream",
     "text": [
      "(9200, 1024)\n",
      "(9200, 256)\n"
     ]
    }
   ],
   "source": [
    "image = train.values.reshape(9200, 32, 32)\n",
    "n = len(image)\n",
    "\n",
    "y = image[:, 8:24, 8:24].reshape(n, -1)\n",
    "x = image.copy()\n",
    "\n",
    "x[:, 8:24, 8:24] = 0\n",
    "x = x.reshape(n, -1)\n",
    "\n",
    "print(x.shape)\n",
    "print(y.shape)"
   ]
  },
  {
   "cell_type": "markdown",
   "metadata": {},
   "source": [
    "# Loading Training Data"
   ]
  },
  {
   "cell_type": "code",
   "execution_count": 151,
   "metadata": {},
   "outputs": [
    {
     "name": "stdout",
     "output_type": "stream",
     "text": [
      "(920, 1025)\n",
      "     0     1     2     3     4     5     6     7     8     9     ...  1015  \\\n",
      "0       1   0.0   0.0   0.0   0.0   0.0   0.0   0.0   0.0   0.0  ...   0.0   \n",
      "1       2   0.0   0.0   0.0   0.0   0.0   0.0   0.0   0.0   0.0  ...   0.0   \n",
      "2       3   0.0   0.0   0.0   0.0   0.0   0.0   0.0   0.0   0.0  ...   0.0   \n",
      "3       4   0.0   0.0   0.0   0.0   0.0   0.0   0.0   0.0   0.0  ...   0.0   \n",
      "4       5   0.0   0.0   0.0   0.0   0.0   0.0   0.0   0.0   0.0  ...   0.0   \n",
      "..    ...   ...   ...   ...   ...   ...   ...   ...   ...   ...  ...   ...   \n",
      "915   916   0.0   0.0   0.0   0.0   0.0   0.0   0.0   0.0   0.0  ...   0.0   \n",
      "916   917   0.0   0.0   0.0   0.0   0.0   0.0   0.0   0.0   0.0  ...   0.0   \n",
      "917   918   0.0   0.0   0.0   0.0   0.0   0.0   0.0   0.0   0.0  ...   0.0   \n",
      "918   919   0.0   0.0   0.0   0.0   0.0   0.0   0.0   0.0   0.0  ...   0.0   \n",
      "919   920   0.0   0.0   0.0   0.0   0.0   0.0   0.0   0.0   0.0  ...   0.0   \n",
      "\n",
      "     1016  1017  1018  1019  1020  1021  1022  1023  1024  \n",
      "0     0.0   0.0   0.0   0.0   0.0   0.0   0.0   0.0   0.0  \n",
      "1     0.0   0.0   0.0   0.0   0.0   0.0   0.0   0.0   0.0  \n",
      "2     0.0   0.0   0.0   0.0   0.0   0.0   0.0   0.0   0.0  \n",
      "3     0.0   0.0   0.0   0.0   0.0   0.0   0.0   0.0   0.0  \n",
      "4     0.0   0.0   0.0   0.0   0.0   0.0   0.0   0.0   0.0  \n",
      "..    ...   ...   ...   ...   ...   ...   ...   ...   ...  \n",
      "915   0.0   0.0   0.0   0.0   0.0   0.0   0.0   0.0   0.0  \n",
      "916   0.0   0.0   0.0   0.0   0.0   0.0   0.0   0.0   0.0  \n",
      "917   0.0   0.0   0.0   0.0   0.0   0.0   0.0   0.0   0.0  \n",
      "918   0.0   0.0   0.0   0.0   0.0   0.0   0.0   0.0   0.0  \n",
      "919   0.0   0.0   0.0   0.0   0.0   0.0   0.0   0.0   0.0  \n",
      "\n",
      "[920 rows x 1025 columns]\n"
     ]
    }
   ],
   "source": [
    "test = pd.read_csv(\"bda-image-challenge-row-testdist.txt\", header=None)\n",
    "print(np.shape(test))\n",
    "print(test)"
   ]
  },
  {
   "cell_type": "code",
   "execution_count": 152,
   "metadata": {},
   "outputs": [
    {
     "name": "stdout",
     "output_type": "stream",
     "text": [
      "(920, 32, 32)\n"
     ]
    }
   ],
   "source": [
    "image_test = test.values[:, 1:]\n",
    "image_test=image_test.reshape(920, 32, 32)\n",
    "n1 = len(image_test)\n",
    "print(image_test.shape)"
   ]
  },
  {
   "cell_type": "code",
   "execution_count": 153,
   "metadata": {},
   "outputs": [
    {
     "name": "stdout",
     "output_type": "stream",
     "text": [
      "(920, 1024)\n",
      "(920, 256)\n"
     ]
    }
   ],
   "source": [
    "y_test = image_test[:, 8:24, 8:24].reshape(n1, -1)\n",
    "x_test = image_test.copy()\n",
    "\n",
    "x_test = x_test.reshape(n1, -1)\n",
    "\n",
    "print(x_test.shape)\n",
    "print(y_test.shape)"
   ]
  },
  {
   "cell_type": "code",
   "execution_count": 154,
   "metadata": {},
   "outputs": [
    {
     "data": {
      "image/png": "[encoded data removed]",
      "text/plain": [
       "<Figure size 432x288 with 1 Axes>"
      ]
     },
     "metadata": {
      "needs_background": "light"
     },
     "output_type": "display_data"
    }
   ],
   "source": [
    "im1 = x_test[20].reshape(32, 32)\n",
    "im1[8:24, 8:24] = y_test[221].reshape(16, 16)\n",
    "plt.imshow(im1.reshape(32, 32))\n",
    "plt.show()"
   ]
  },
  {
   "cell_type": "markdown",
   "metadata": {},
   "source": [
    "# Keras model with kfold cross-validation"
   ]
  },
  {
   "cell_type": "code",
   "execution_count": 3,
   "metadata": {},
   "outputs": [
    {
     "name": "stderr",
     "output_type": "stream",
     "text": [
      "Using TensorFlow backend.\n"
     ]
    }
   ],
   "source": [
    "from keras.models import Sequential\n",
    "from keras.layers import Dense, Conv2D, Flatten, MaxPooling2D, Dropout\n",
    "from sklearn.model_selection import KFold\n"
   ]
  },
  {
   "cell_type": "code",
   "execution_count": 156,
   "metadata": {},
   "outputs": [],
   "source": [
    "def kerasmodel():\n",
    "    \n",
    "    model = Sequential()\n",
    "    model.add(Conv2D(64, kernel_size=(16, 16), activation='relu', input_shape=(32,32,1)))\n",
    "    model.add(MaxPooling2D(pool_size=(2, 2)))\n",
    "    model.add(Conv2D(32, kernel_size=(8, 8), activation='relu'))\n",
    "    model.add(MaxPooling2D(pool_size=(1, 1)))\n",
    "\n",
    "    \n",
    "    model.add(Flatten())\n",
    "    model.add(Dense(256, activation='relu'))\n",
    "    model.add(Dropout(0.4))\n",
    "    model.add(Dense(256, activation='relu'))\n",
    "    model.add(Dropout(0.4))\n",
    "    model.add(Dense(256, activation=\"sigmoid\"))\n",
    "    \n",
    "    model.compile(optimizer='adam', loss='categorical_crossentropy', metrics=['accuracy'])\n",
    "    \n",
    "    return model"
   ]
  },
  {
   "cell_type": "code",
   "execution_count": 168,
   "metadata": {},
   "outputs": [
    {
     "name": "stdout",
     "output_type": "stream",
     "text": [
      "(6900, 32, 32, 1) (6900, 256)\n",
      "Epoch 1/10\n",
      "6900/6900 [==============================] - 8s 1ms/step - loss: 492.7060 - accuracy: 0.0155\n",
      "Epoch 2/10\n",
      "6900/6900 [==============================] - 8s 1ms/step - loss: 487.8506 - accuracy: 0.0322\n",
      "Epoch 3/10\n",
      "6900/6900 [==============================] - 8s 1ms/step - loss: 484.5705 - accuracy: 0.0280\n",
      "Epoch 4/10\n",
      "6900/6900 [==============================] - 8s 1ms/step - loss: 483.0070 - accuracy: 0.0297\n",
      "Epoch 5/10\n",
      "6900/6900 [==============================] - 8s 1ms/step - loss: 481.7940 - accuracy: 0.0275\n",
      "Epoch 6/10\n",
      "6900/6900 [==============================] - 9s 1ms/step - loss: 480.9260 - accuracy: 0.0223\n",
      "Epoch 7/10\n",
      "6900/6900 [==============================] - 9s 1ms/step - loss: 480.3990 - accuracy: 0.0209\n",
      "Epoch 8/10\n",
      "6900/6900 [==============================] - 8s 1ms/step - loss: 479.7808 - accuracy: 0.0246\n",
      "Epoch 9/10\n",
      "6900/6900 [==============================] - 8s 1ms/step - loss: 479.2655 - accuracy: 0.0259\n",
      "Epoch 10/10\n",
      "6900/6900 [==============================] - 8s 1ms/step - loss: 478.6926 - accuracy: 0.0245\n",
      "2300/2300 [==============================] - 1s 442us/step\n",
      "Model evaluation  [483.75974020253057, 0.021739130839705467]\n",
      "(6900, 32, 32, 1) (6900, 256)\n",
      "Epoch 1/10\n",
      "6900/6900 [==============================] - 9s 1ms/step - loss: 498.5721 - accuracy: 0.0091\n",
      "Epoch 2/10\n",
      "6900/6900 [==============================] - 8s 1ms/step - loss: 491.3879 - accuracy: 0.0219\n",
      "Epoch 3/10\n",
      "6900/6900 [==============================] - 8s 1ms/step - loss: 486.9558 - accuracy: 0.0180\n",
      "Epoch 4/10\n",
      "6900/6900 [==============================] - 8s 1ms/step - loss: 484.1787 - accuracy: 0.0157\n",
      "Epoch 5/10\n",
      "6900/6900 [==============================] - 8s 1ms/step - loss: 482.1538 - accuracy: 0.0222\n",
      "Epoch 6/10\n",
      "6900/6900 [==============================] - 8s 1ms/step - loss: 480.6948 - accuracy: 0.0241\n",
      "Epoch 7/10\n",
      "6900/6900 [==============================] - 9s 1ms/step - loss: 479.5944 - accuracy: 0.0288\n",
      "Epoch 8/10\n",
      "6900/6900 [==============================] - 10s 1ms/step - loss: 478.5688 - accuracy: 0.0303\n",
      "Epoch 9/10\n",
      "6900/6900 [==============================] - 8s 1ms/step - loss: 477.7985 - accuracy: 0.0335\n",
      "Epoch 10/10\n",
      "6900/6900 [==============================] - 9s 1ms/step - loss: 477.0943 - accuracy: 0.0267\n",
      "2300/2300 [==============================] - 1s 472us/step\n",
      "Model evaluation  [457.40875960640284, 0.022608695551753044]\n",
      "(6900, 32, 32, 1) (6900, 256)\n",
      "Epoch 1/10\n",
      "6900/6900 [==============================] - 10s 1ms/step - loss: 471.3471 - accuracy: 0.0141\n",
      "Epoch 2/10\n",
      "6900/6900 [==============================] - 9s 1ms/step - loss: 463.5843 - accuracy: 0.0270\n",
      "Epoch 3/10\n",
      "6900/6900 [==============================] - 9s 1ms/step - loss: 459.1745 - accuracy: 0.0287\n",
      "Epoch 4/10\n",
      "6900/6900 [==============================] - 8s 1ms/step - loss: 456.8237 - accuracy: 0.0294\n",
      "Epoch 5/10\n",
      "6900/6900 [==============================] - 8s 1ms/step - loss: 455.1049 - accuracy: 0.0326\n",
      "Epoch 6/10\n",
      "6900/6900 [==============================] - 8s 1ms/step - loss: 453.9231 - accuracy: 0.0332\n",
      "Epoch 7/10\n",
      "6900/6900 [==============================] - 9s 1ms/step - loss: 452.7805 - accuracy: 0.0333\n",
      "Epoch 8/10\n",
      "6900/6900 [==============================] - 9s 1ms/step - loss: 451.8670 - accuracy: 0.0332\n",
      "Epoch 9/10\n",
      "6900/6900 [==============================] - 9s 1ms/step - loss: 451.2164 - accuracy: 0.0299\n",
      "Epoch 10/10\n",
      "6900/6900 [==============================] - 10s 2ms/step - loss: 450.5824 - accuracy: 0.0306\n",
      "2300/2300 [==============================] - 1s 482us/step\n",
      "Model evaluation  [541.4283922278363, 0.03521738946437836]\n",
      "(6900, 32, 32, 1) (6900, 256)\n",
      "Epoch 1/10\n",
      "6900/6900 [==============================] - 9s 1ms/step - loss: 502.4847 - accuracy: 0.0126\n",
      "Epoch 2/10\n",
      "6900/6900 [==============================] - 9s 1ms/step - loss: 494.7030 - accuracy: 0.0283: 0s - loss: 494.3652 - accura\n",
      "Epoch 3/10\n",
      "6900/6900 [==============================] - 9s 1ms/step - loss: 490.9106 - accuracy: 0.0309\n",
      "Epoch 4/10\n",
      "6900/6900 [==============================] - 9s 1ms/step - loss: 488.4201 - accuracy: 0.0312\n",
      "Epoch 5/10\n",
      "6900/6900 [==============================] - 9s 1ms/step - loss: 486.8785 - accuracy: 0.0281\n",
      "Epoch 6/10\n",
      "6900/6900 [==============================] - 9s 1ms/step - loss: 485.6299 - accuracy: 0.0219\n",
      "Epoch 7/10\n",
      "6900/6900 [==============================] - 9s 1ms/step - loss: 484.8384 - accuracy: 0.0204\n",
      "Epoch 8/10\n",
      "6900/6900 [==============================] - 9s 1ms/step - loss: 483.8544 - accuracy: 0.0213\n",
      "Epoch 9/10\n",
      "6900/6900 [==============================] - 9s 1ms/step - loss: 483.0055 - accuracy: 0.0206\n",
      "Epoch 10/10\n",
      "6900/6900 [==============================] - 9s 1ms/step - loss: 482.2405 - accuracy: 0.0206\n",
      "2300/2300 [==============================] - 1s 455us/step\n",
      "Model evaluation  [443.9649269701087, 0.016521738842129707]\n"
     ]
    }
   ],
   "source": [
    "n_split=4\n",
    " \n",
    "for train_index,test_index in KFold(n_split).split(x):\n",
    "    x_trker,x_ttker=x[train_index],x[test_index]\n",
    "    y_trker,y_ttker=y[train_index],y[test_index]\n",
    "    ntr=len(x_trker)\n",
    "    ntt=len(x_ttker)\n",
    "    x_trker,y_trker =x_trker.reshape(ntr, 32, 32,1),y_trker.reshape(ntr, 256) \n",
    "    x_ttker,y_ttker =x_ttker.reshape(ntt, 32, 32,1),y_ttker.reshape(ntt, 256) \n",
    "    print(x_trker.shape,y_trker.shape )\n",
    "    kermodel=kerasmodel()\n",
    "    kermodel.fit( x_trker, y_trker,epochs=10)\n",
    "    print('Model evaluation ',kermodel.evaluate(x_ttker,y_ttker))\n",
    "\n"
   ]
  },
  {
   "cell_type": "code",
   "execution_count": 170,
   "metadata": {},
   "outputs": [
    {
     "name": "stdout",
     "output_type": "stream",
     "text": [
      "Keras: \n",
      "MSE:  0.12128743854973417\n",
      "R2-score:  0.32069789361496126\n"
     ]
    }
   ],
   "source": [
    "y_pred= kermodel.predict(x.reshape(n,32,32,1))\n",
    "print(\"Keras: \")\n",
    "print(\"MSE: \",mean_squared_error(y, y_pred))\n",
    "print(\"R2-score: \",r2(y, y_pred))\n",
    "\n"
   ]
  },
  {
   "cell_type": "code",
   "execution_count": 171,
   "metadata": {},
   "outputs": [
    {
     "data": {
      "image/png": "[encoded data removed]",
      "text/plain": [
       "<Figure size 432x288 with 1 Axes>"
      ]
     },
     "metadata": {
      "needs_background": "light"
     },
     "output_type": "display_data"
    },
    {
     "data": {
      "image/png": "[encoded data removed]",
      "text/plain": [
       "<Figure size 432x288 with 1 Axes>"
      ]
     },
     "metadata": {
      "needs_background": "light"
     },
     "output_type": "display_data"
    },
    {
     "data": {
      "image/png": "[encoded data removed]",
      "text/plain": [
       "<Figure size 432x288 with 1 Axes>"
      ]
     },
     "metadata": {
      "needs_background": "light"
     },
     "output_type": "display_data"
    },
    {
     "data": {
      "image/png": "[encoded data removed]",
      "text/plain": [
       "<Figure size 432x288 with 1 Axes>"
      ]
     },
     "metadata": {
      "needs_background": "light"
     },
     "output_type": "display_data"
    },
    {
     "data": {
      "image/png": "[encoded data removed]",
      "text/plain": [
       "<Figure size 432x288 with 1 Axes>"
      ]
     },
     "metadata": {
      "needs_background": "light"
     },
     "output_type": "display_data"
    },
    {
     "data": {
      "image/png": "[encoded data removed]",
      "text/plain": [
       "<Figure size 432x288 with 1 Axes>"
      ]
     },
     "metadata": {
      "needs_background": "light"
     },
     "output_type": "display_data"
    }
   ],
   "source": [
    "for i in range(2):\n",
    "    im1 = x[30+i].reshape(32, 32)\n",
    "    im2 = im1.copy()\n",
    "    im3=im1.copy()\n",
    "    im1[8:24, 8:24] = y[30+i].reshape(16, 16)\n",
    "    im2[8:24, 8:24] = y_pred[30+i].reshape(16, 16)\n",
    "    plt.imshow(im3.reshape(32, 32))\n",
    "    plt.show()\n",
    "    plt.imshow(im1.reshape(32, 32))\n",
    "    plt.show()\n",
    "    plt.imshow(im2.reshape(32, 32))\n",
    "    plt.show()"
   ]
  },
  {
   "cell_type": "code",
   "execution_count": 175,
   "metadata": {},
   "outputs": [],
   "source": [
    "ytest_pred=kermodel.predict(x_test.reshape(n1,32,32,1))"
   ]
  },
  {
   "cell_type": "code",
   "execution_count": 176,
   "metadata": {},
   "outputs": [
    {
     "data": {
      "image/png": "[encoded data removed]",
      "text/plain": [
       "<Figure size 432x288 with 1 Axes>"
      ]
     },
     "metadata": {
      "needs_background": "light"
     },
     "output_type": "display_data"
    },
    {
     "data": {
      "image/png": "[encoded data removed]",
      "text/plain": [
       "<Figure size 432x288 with 1 Axes>"
      ]
     },
     "metadata": {
      "needs_background": "light"
     },
     "output_type": "display_data"
    }
   ],
   "source": [
    "im1 = x_test[600].reshape(32, 32)\n",
    "im2 = im1.copy()\n",
    "im1[8:24, 8:24] = y_test[600].reshape(16, 16)\n",
    "im2[8:24, 8:24] = ytest_pred[600].reshape(16, 16)\n",
    "plt.imshow(im1.reshape(32, 32))\n",
    "plt.show()\n",
    "plt.imshow(im2.reshape(32, 32))\n",
    "plt.show()"
   ]
  }
 ],
 "metadata": {
  "kernelspec": {
   "display_name": "Python 3",
   "language": "python",
   "name": "python3"
  },
  "language_info": {
   "codemirror_mode": {
    "name": "ipython",
    "version": 3
   },
   "file_extension": ".py",
   "mimetype": "text/x-python",
   "name": "python",
   "nbconvert_exporter": "python",
   "pygments_lexer": "ipython3",
   "version": "3.7.6"
  }
 },
 "nbformat": 4,
 "nbformat_minor": 4
}
